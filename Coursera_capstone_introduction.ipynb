{
  "nbformat": 4,
  "nbformat_minor": 0,
  "metadata": {
    "colab": {
      "name": "Coursera_capstone_introduction.ipynb",
      "provenance": [],
      "authorship_tag": "ABX9TyMgE5Roj2UL5RjRacXc+6Hu"
    },
    "kernelspec": {
      "name": "python3",
      "display_name": "Python 3"
    }
  },
  "cells": [
    {
      "cell_type": "markdown",
      "metadata": {
        "id": "rSexKI16_lp3",
        "colab_type": "text"
      },
      "source": [
        "##Introduction/Business Problem"
      ]
    },
    {
      "cell_type": "markdown",
      "metadata": {
        "id": "JFnZ1Qx3_lxj",
        "colab_type": "text"
      },
      "source": [
        "Singapore is a highly developed city state with no shortage of amendities. It is further divided into 23 towns and 3 estates, each with their own distinct flavor.\n",
        "\n",
        "At 721.5 square kilometers, one would think that the average Singapore would know what differentiates each town from one another (other than price of course!). But alas, this is not the case. \n",
        "\n",
        "As a young Singaporean looking to buy a house, I faced the daunting task of comparing houses from different towns based on price as well as amendities. \n",
        "\n",
        "We will use data from various sources to generate group towns with similar amendities into clusters as well as generate a choropleth map of all the towns based on median resale prices of the towns.\n",
        "\n",
        "From there on, potential home buyers will be able to have a broad overview of the median house values for each town, together with the amendities that define the particular town. This allows buyers to select towns which are cheaper and yet, have the same types of amendities that they want."
      ]
    },
    {
      "cell_type": "code",
      "metadata": {
        "id": "WXQ5uGBK_m4o",
        "colab_type": "code",
        "colab": {}
      },
      "source": [
        ""
      ],
      "execution_count": null,
      "outputs": []
    }
  ]
}