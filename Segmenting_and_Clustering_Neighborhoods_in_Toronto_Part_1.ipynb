{
  "nbformat": 4,
  "nbformat_minor": 0,
  "metadata": {
    "colab": {
      "name": "Segmenting and Clustering Neighborhoods in Toronto Part 1.ipynb",
      "provenance": [],
      "authorship_tag": "ABX9TyM9Dy1cFb/crtrm+jDlon20"
    },
    "kernelspec": {
      "name": "python3",
      "display_name": "Python 3"
    }
  },
  "cells": [
    {
      "cell_type": "markdown",
      "metadata": {
        "id": "eLrVIYvC6ueh",
        "colab_type": "text"
      },
      "source": [
        "#Peer-graded Assignment: Segmenting and Clustering Neighborhoods in Toronto QN 1"
      ]
    },
    {
      "cell_type": "markdown",
      "metadata": {
        "id": "hwGByTz-1wnw",
        "colab_type": "text"
      },
      "source": [
        "Importing all the required modules"
      ]
    },
    {
      "cell_type": "code",
      "metadata": {
        "id": "Ysxxei0v74Bk",
        "colab_type": "code",
        "colab": {}
      },
      "source": [
        "import pandas as pd\n",
        "import numpy as np\n",
        "import json\n",
        "from pandas.io.json import json_normalize\n",
        "import matplotlib.cm as cm\n",
        "import matplotlib.colors as colors\n",
        "import folium\n",
        "from sklearn.cluster import KMeans \n",
        "from geopy.geocoders import Nominatim\n",
        "import requests"
      ],
      "execution_count": 1,
      "outputs": []
    },
    {
      "cell_type": "markdown",
      "metadata": {
        "id": "pGMI4fAb2Puh",
        "colab_type": "text"
      },
      "source": [
        "Getting data from website "
      ]
    },
    {
      "cell_type": "code",
      "metadata": {
        "id": "T7LYsG7PsJbd",
        "colab_type": "code",
        "colab": {
          "base_uri": "https://localhost:8080/",
          "height": 460
        },
        "outputId": "e22f1941-8750-46d6-f120-51df2d0ffe62"
      },
      "source": [
        "# Importing data from website\n",
        "url = 'http://en.wikipedia.org/wiki/List_of_postal_codes_of_Canada:_M'\n",
        "raw = pd.read_html(url, index_col=0, header=0)\n",
        "raw"
      ],
      "execution_count": 2,
      "outputs": [
        {
          "output_type": "execute_result",
          "data": {
            "text/plain": [
              "[                      Borough                                      Neighbourhood\n",
              " Postal Code                                                                     \n",
              " M1A              Not assigned                                       Not assigned\n",
              " M2A              Not assigned                                       Not assigned\n",
              " M3A                North York                                          Parkwoods\n",
              " M4A                North York                                   Victoria Village\n",
              " M5A          Downtown Toronto                          Regent Park, Harbourfront\n",
              " ...                       ...                                                ...\n",
              " M5Z              Not assigned                                       Not assigned\n",
              " M6Z              Not assigned                                       Not assigned\n",
              " M7Z              Not assigned                                       Not assigned\n",
              " M8Z                 Etobicoke  Mimico NW, The Queensway West, South of Bloor,...\n",
              " M9Z              Not assigned                                       Not assigned\n",
              " \n",
              " [180 rows x 2 columns],\n",
              "                                                                                 Canadian postal codes  ... Unnamed: 17\n",
              " NL NS PE NB QC ON MB SK AB BC NU/NT YT A B C E ...  NL NS PE NB QC ON MB SK AB BC NU/NT YT A B C E...  ...         NaN\n",
              " NL                                                                                                 NS  ...          YT\n",
              " A                                                                                                   B  ...           Y\n",
              " \n",
              " [3 rows x 17 columns],\n",
              "    NS PE NB QC QC.1 QC.2 ON ON.1 ON.2 ON.3 ON.4 MB SK AB BC NU/NT YT\n",
              " NL                                                                  \n",
              " A   B  C  E  G    H    J  K    L    M    N    P  R  S  T  V     X  Y]"
            ]
          },
          "metadata": {
            "tags": []
          },
          "execution_count": 2
        }
      ]
    },
    {
      "cell_type": "markdown",
      "metadata": {
        "id": "bTZhsXSX2S2B",
        "colab_type": "text"
      },
      "source": [
        "Applying a filter to drop rows containing 'not assigned' values"
      ]
    },
    {
      "cell_type": "code",
      "metadata": {
        "id": "Gc0rZMJucR49",
        "colab_type": "code",
        "colab": {
          "base_uri": "https://localhost:8080/",
          "height": 35
        },
        "outputId": "98d05a4a-8760-4dbd-de07-d9364e6f6d93"
      },
      "source": [
        "# Cleaning up data\n",
        "postal = raw[0].reset_index()\n",
        "\n",
        "# Dropping rows neighbourhood not assigned\n",
        "filt = postal['Neighbourhood'] == 'Not assigned'\n",
        "postal.drop(index=postal[filt].index, inplace=True)\n",
        "postal = postal.reset_index(drop=True)\n",
        "postal.shape"
      ],
      "execution_count": 3,
      "outputs": [
        {
          "output_type": "execute_result",
          "data": {
            "text/plain": [
              "(103, 3)"
            ]
          },
          "metadata": {
            "tags": []
          },
          "execution_count": 3
        }
      ]
    }
  ]
}