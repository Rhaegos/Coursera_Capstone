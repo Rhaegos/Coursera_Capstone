{
  "nbformat": 4,
  "nbformat_minor": 0,
  "metadata": {
    "colab": {
      "name": "Coursera_capstone_data.ipynb",
      "provenance": [],
      "authorship_tag": "ABX9TyMfvtkwwGw/jI2G6XQ1c6/A"
    },
    "kernelspec": {
      "name": "python3",
      "display_name": "Python 3"
    }
  },
  "cells": [
    {
      "cell_type": "markdown",
      "metadata": {
        "id": "l_9-Vx8BAgx_",
        "colab_type": "text"
      },
      "source": [
        "##Data"
      ]
    },
    {
      "cell_type": "markdown",
      "metadata": {
        "id": "mb6ngiMnAg1D",
        "colab_type": "text"
      },
      "source": [
        "###The following data sets will be used:\n",
        "1.   Location data from Foursquare\n",
        "2.   Median resale flat prices\n",
        "3.   Geojson data for boundaries of each town\n",
        "\n",
        "###Location data from Foursquare\n",
        "List of venues for each town will be obtained from Foursquare. The data obtained will be used to determine the venues that define the particular town. This will allow us to employ clustering to group towns with similar venues. \n",
        "\n",
        "###Median resale flat prices\n",
        "We will be using the median resale flat prices from data.gov.sg to allow us to determine what is the average sale price of flats in each particular town.\n",
        "\n",
        "###Geojson data for boundaries of each town\n",
        "Geojson data will be used to define the boundaries of each town when generating the chloropleth map based on the median resale flat prices."
      ]
    },
    {
      "cell_type": "code",
      "metadata": {
        "id": "PAZId-YkAhqb",
        "colab_type": "code",
        "colab": {}
      },
      "source": [
        ""
      ],
      "execution_count": null,
      "outputs": []
    }
  ]
}